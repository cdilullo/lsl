{
 "metadata": {
  "name": ""
 },
 "nbformat": 2,
 "nbformat_minor": 0,
 "worksheets": [
  {
   "cells": [
    {
     "cell_type": "markdown",
     "metadata": {},
     "source": [
      "# Basics"
     ]
    },
    {
     "cell_type": "markdown",
     "metadata": {},
     "source": [
      "LSL provides readers for the two DP transient buffer outputs:  the transient buffer - wideband (TBW) and the transient buffer - narrowband (TBW) through the lsl.reader module.  First, download a small portion of a TBW data file:"
     ]
    },
    {
     "cell_type": "code",
     "collapsed": false,
     "input": [
      "# This may take a bit...\n",
      "import os\n",
      "import urllib2\n",
      "from lsl.reader import tbw\n",
      "\n",
      "if not os.path.exists('temp.tbw'):\n",
      "    fh1 = urllib2.urlopen('http://fornax.phys.unm.edu/lwa/data/firstlight/firstLightTBW.dat')\n",
      "    fh2 = open('temp.tbw', 'wb')\n",
      "    fh2.write(fh1.read(tbw.FrameSize*1000))\n",
      "    fh1.close()\n",
      "    fh2.close()\n",
      "    \n",
      "print \"TBW Size: %.1f kB\" % (os.path.getsize('temp.tbw')/1024.)"
     ],
     "language": "python",
     "metadata": {},
     "outputs": [
      {
       "output_type": "stream",
       "stream": "stdout",
       "text": [
        "TBW Size: 1195.3 kB\n"
       ]
      }
     ],
     "prompt_number": 5
    },
    {
     "cell_type": "markdown",
     "metadata": {},
     "source": [
      "To read in the TBW data:"
     ]
    },
    {
     "cell_type": "code",
     "collapsed": false,
     "input": [
      "from lsl.reader import tbw, errors\n",
      "\n",
      "fh = open('temp.tbw', 'rb')\n",
      "for i in xrange(5):\n",
      "    try:\n",
      "        frame = tbw.readFrame(fh)\n",
      "    except errors.syncError:\n",
      "        continue\n",
      "    except errors.eofError:\n",
      "        break\n",
      "        \n",
      "    print \"DP Stand Number: %i\" % frame.parseID()\n",
      "    print \"-> Frame Count: %i\" % frame.header.frameCount\n",
      "    print \"-> Time tag: %.6f s\" % frame.getTime()\n",
      "    print \"-> Mean value: %.3f\" % frame.data.xy.mean()\n",
      "fh.close()"
     ],
     "language": "python",
     "metadata": {},
     "outputs": [
      {
       "output_type": "stream",
       "stream": "stdout",
       "text": [
        "DP Stand Number: 22\n",
        "-> Frame Count: 1\n",
        "-> Time tag: 1302134255.000000 s\n",
        "-> Mean value: 12.954\n",
        "DP Stand Number: 21\n",
        "-> Frame Count: 2\n",
        "-> Time tag: 1302134255.000002 s\n",
        "-> Mean value: 14.061\n",
        "DP Stand Number: 22\n",
        "-> Frame Count: 2\n",
        "-> Time tag: 1302134255.000002 s\n",
        "-> Mean value: 8.617\n",
        "DP Stand Number: 102\n",
        "-> Frame Count: 1\n",
        "-> Time tag: 1302134255.000000 s\n",
        "-> Mean value: 7.439\n",
        "DP Stand Number: 101\n",
        "-> Frame Count: 2\n",
        "-> Time tag: 1302134255.000002 s\n",
        "-> Mean value: 3.271\n"
       ]
      }
     ],
     "prompt_number": 5
    },
    {
     "cell_type": "markdown",
     "metadata": {},
     "source": [
      "The try...except blocks help deal with problems in the file as the come up and keep things running smoothly.\n",
      "\n",
      "One of the most confusing aspects of this interface is that the stand values returned by the \"frame.parseID\" method are DP stand numbers, which are used internally in DP to keep track of signals, and not LWA1 stand numbers.  However, the DP stand numbers can be related to LWA1 stand numbers using the lsl.common.stations.lwa1 instance:"
     ]
    },
    {
     "cell_type": "code",
     "collapsed": false,
     "input": [
      "from lsl.common.stations import lwa1\n",
      "from lsl.reader import tbw, errors\n",
      "\n",
      "# Get the antenna list\n",
      "antennas = lwa1.getAntennas()\n",
      "\n",
      "# Read in the first 5 frames\n",
      "fh = open('temp.tbw', 'rb')\n",
      "for i in xrange(5):\n",
      "    try:\n",
      "        frame = tbw.readFrame(fh)\n",
      "    except errors.syncError:\n",
      "        continue\n",
      "    except errors.eofError:\n",
      "        break\n",
      "        \n",
      "    # Calculate the digitizer\n",
      "    dig = 2*(frame.parseID()-1) + 1\n",
      "    \n",
      "    print \"DP Stand Number: %i\" % frame.parseID()\n",
      "    print \"-> LWA1 Stand: %i\" % antennas[dig-1].stand.id\n",
      "    print \"-> Frame Count: %i\" % frame.header.frameCount\n",
      "    print \"-> Time tag: %.6f s\" % frame.getTime()\n",
      "    print \"-> Mean value: %.3f\" % frame.data.xy.mean()\n",
      "fh.close()"
     ],
     "language": "python",
     "metadata": {},
     "outputs": [
      {
       "output_type": "stream",
       "stream": "stdout",
       "text": [
        "DP Stand Number: 22\n",
        "-> LWA1 Stand: 85\n",
        "-> Frame Count: 1\n",
        "-> Time tag: 1302134255.000000 s\n",
        "-> Mean value: 12.954\n",
        "DP Stand Number: 21\n",
        "-> LWA1 Stand: 242\n",
        "-> Frame Count: 2\n",
        "-> Time tag: 1302134255.000002 s\n",
        "-> Mean value: 14.061\n",
        "DP Stand Number: 22\n",
        "-> LWA1 Stand: 85\n",
        "-> Frame Count: 2\n",
        "-> Time tag: 1302134255.000002 s\n",
        "-> Mean value: 8.617\n",
        "DP Stand Number: 102\n",
        "-> LWA1 Stand: 112\n",
        "-> Frame Count: 1\n",
        "-> Time tag: 1302134255.000000 s\n",
        "-> Mean value: 7.439\n",
        "DP Stand Number: 101\n",
        "-> LWA1 Stand: 187\n",
        "-> Frame Count: 2\n",
        "-> Time tag: 1302134255.000002 s\n",
        "-> Mean value: 3.271\n"
       ]
      }
     ],
     "prompt_number": 7
    },
    {
     "cell_type": "markdown",
     "metadata": {},
     "source": [
      "The interface for TBN data is similar.  To download a small section of data:"
     ]
    },
    {
     "cell_type": "code",
     "collapsed": false,
     "input": [
      "# This may take a bit...\n",
      "import os\n",
      "import urllib2\n",
      "from lsl.reader import tbn\n",
      "\n",
      "if not os.path.exists('temp.tbn'):\n",
      "    fh1 = urllib2.urlopen('http://fornax.phys.unm.edu/lwa/data/TBN/055987_000496599_DEFAULT_TBN_00000_30.dat')\n",
      "    fh2 = open('temp.tbn', 'wb')\n",
      "    fh2.write(fh1.read(tbn.FrameSize*1000))\n",
      "    fh1.close()\n",
      "    fh2.close()\n",
      "    \n",
      "print \"TBN Size: %.1f kB\" % (os.path.getsize('temp.tbn')/1024.)"
     ],
     "language": "python",
     "metadata": {},
     "outputs": [
      {
       "output_type": "stream",
       "stream": "stdout",
       "text": [
        "TBN Size: 1023.4 kB\n"
       ]
      }
     ],
     "prompt_number": 8
    },
    {
     "cell_type": "code",
     "collapsed": false,
     "input": [
      "from lsl.reader import tbn, errors\n",
      "\n",
      "# Read in the first 5 frames\n",
      "fh = open('temp.tbn', 'rb')\n",
      "for i in xrange(5):\n",
      "    try:\n",
      "        frame = tbn.readFrame(fh)\n",
      "    except errors.syncError:\n",
      "        continue\n",
      "    except errors.eofError:\n",
      "        break\n",
      "        \n",
      "    print \"DP Stand Number: %i, pol. %i\" % frame.parseID()\n",
      "    print \"-> Time tag: %.6f s\" % frame.getTime()\n",
      "    print \"-> Mean value: %.3f + %.3f j\" % (frame.data.iq.mean().real, frame.data.iq.mean().imag)\n",
      "fh.close()"
     ],
     "language": "python",
     "metadata": {},
     "outputs": [
      {
       "output_type": "stream",
       "stream": "stdout",
       "text": [
        "DP Stand Number: 101, pol. 0\n",
        "-> Time tag: 1330573596.004160 s\n",
        "-> Mean value: -0.254 + 0.369 j\n",
        "DP Stand Number: 191, pol. 0\n",
        "-> Time tag: 1330573596.004160 s\n",
        "-> Mean value: 0.064 + -0.055 j\n",
        "DP Stand Number: 151, pol. 0\n",
        "-> Time tag: 1330573596.004160 s\n",
        "-> Mean value: -0.371 + 0.217 j\n",
        "DP Stand Number: 81, pol. 0\n",
        "-> Time tag: 1330573596.004160 s\n",
        "-> Mean value: -0.188 + -0.326 j\n",
        "DP Stand Number: 171, pol. 0\n",
        "-> Time tag: 1330573596.004160 s\n",
        "-> Mean value: -0.158 + 0.129 j\n"
       ]
      }
     ],
     "prompt_number": 29
    },
    {
     "cell_type": "markdown",
     "metadata": {},
     "source": [
      "Similar to the TBW case, the stand and polarizations returned by \"frame.parseID\" are from the interal DP structure.  To relate this to LWA1 stand/polarizations you use a similar method:"
     ]
    },
    {
     "cell_type": "code",
     "collapsed": false,
     "input": [
      "from lsl.common.stations import lwa1\n",
      "from lsl.reader import tbn, errors\n",
      "\n",
      "# Download a small bit of TBN data (1000 frames to be exact)\n",
      "# This may take a bit...\n",
      "import os\n",
      "import urllib2\n",
      "if not os.path.exists('temp.tbn'):\n",
      "    fh1 = urllib2.urlopen('http://fornax.phys.unm.edu/lwa/data/TBN/055987_000496599_DEFAULT_TBN_00000_30.dat')\n",
      "    fh2 = open('temp.tbn', 'wb')\n",
      "    fh2.write(fh1.read(tbn.FrameSize*1000))\n",
      "    fh1.close()\n",
      "    fh2.close()\n",
      "    \n",
      "# Get the antenna list\n",
      "antennas = lwa1.getAntennas()\n",
      "\n",
      "# Read in the first 5 frames\n",
      "fh = open('temp.tbn', 'rb')\n",
      "for i in xrange(5):\n",
      "    try:\n",
      "        frame = tbn.readFrame(fh)\n",
      "    except errors.syncError:\n",
      "        continue\n",
      "    except errors.eofError:\n",
      "        break\n",
      "        \n",
      "    # Calculate the digitizer\n",
      "    stand,pol = frame.parseID()\n",
      "    dig = 2*(stand-1) + pol + 1\n",
      "    \n",
      "    print \"DP Stand Number: %i, pol. %i\" % (stand,pol)\n",
      "    print \"-> LWA1 Stand, pol.: %i, %i\" % (antennas[dig-1].stand.id, antennas[dig-1].pol)\n",
      "    print \"-> Time tag: %.6f s\" % frame.getTime()\n",
      "    print \"-> Mean value: %.3f + %.3f j\" % (frame.data.iq.mean().real, frame.data.iq.mean().imag)\n",
      "fh.close()"
     ],
     "language": "python",
     "metadata": {},
     "outputs": [
      {
       "output_type": "stream",
       "stream": "stdout",
       "text": [
        "DP Stand Number: 101, pol. 0\n",
        "-> LWA1 Stand, pol.: 187, 0\n",
        "-> Time tag: 1330573596.004160 s\n",
        "-> Mean value: -0.254 + 0.369 j\n",
        "DP Stand Number: 191, pol. 0\n",
        "-> LWA1 Stand, pol.: 13, 0\n",
        "-> Time tag: 1330573596.004160 s\n",
        "-> Mean value: 0.064 + -0.055 j\n",
        "DP Stand Number: 151, pol. 0\n",
        "-> LWA1 Stand, pol.: 90, 0\n",
        "-> Time tag: 1330573596.004160 s\n",
        "-> Mean value: -0.371 + 0.217 j\n",
        "DP Stand Number: 81, pol. 0\n",
        "-> LWA1 Stand, pol.: 125, 0\n",
        "-> Time tag: 1330573596.004160 s\n",
        "-> Mean value: -0.188 + -0.326 j\n",
        "DP Stand Number: 171, pol. 0\n",
        "-> LWA1 Stand, pol.: 130, 0\n",
        "-> Time tag: 1330573596.004160 s\n",
        "-> Mean value: -0.158 + 0.129 j\n"
       ]
      }
     ],
     "prompt_number": 2
    },
    {
     "cell_type": "markdown",
     "metadata": {},
     "source": [
      "# Generating and Plotting Spectra"
     ]
    },
    {
     "cell_type": "markdown",
     "metadata": {},
     "source": [
      "Although computing the mean I/Q value for each frame isn't particularlly interesting this example shows how data can be extracted from within each TBN frame.  A more complicated example that generates spectra would look like:"
     ]
    },
    {
     "cell_type": "code",
     "collapsed": false,
     "input": [
      "%matplotlib inline\n",
      "from lsl.misc.mathutil import to_dB\n",
      "from matplotlib import pyplot as plt\n",
      "\n",
      "fh = open('temp.tbn', 'rb')\n",
      "srate = tbn.getSampleRate(fh)   # Data sample rate in Hz\n",
      "frame = tbn.readFrame(fh)\n",
      "cFreq = frame.getCentralFreq()  # Data tuning in Hz\n",
      "frame.data.iq.shape = (1,frame.data.iq.size)  # SpecMaster expects 2-D data\n",
      "\n",
      "from lsl.correlator import fx as fxc\n",
      "freq, spec = fxc.SpecMaster(frame.data.iq, LFFT=512, SampleRate=srate, CentralFreq=cFreq) \n",
      "print freq.shape, spec.shape\n",
      "\n",
      "fig = plt.figure()\n",
      "ax = fig.gca()\n",
      "ax.plot((freq-freq.mean())/1e3, to_dB(spec[0,:]))\n",
      "ax.set_xlabel('Relative Freq [kHz]')\n",
      "ax.set_ylabel('PSD [arb. dB]')\n",
      "plt.show()"
     ],
     "language": "python",
     "metadata": {},
     "outputs": [
      {
       "output_type": "stream",
       "stream": "stdout",
       "text": [
        "(511,) (1, 511)\n"
       ]
      },
      {
       "metadata": {},
       "output_type": "display_data",
       "png": "[encoded data removed]",
       "text": [
        "<matplotlib.figure.Figure at 0x109ffb590>"
       ]
      }
     ],
     "prompt_number": 37
    },
    {
     "cell_type": "markdown",
     "metadata": {},
     "source": [
      "The \"SpecMaster\" function used above also works for TBW data."
     ]
    },
    {
     "cell_type": "markdown",
     "metadata": {},
     "source": [
      "# Post-Acquisition Beam Formings with TBN"
     ]
    },
    {
     "cell_type": "markdown",
     "metadata": {},
     "source": [
      "For post-acquisition beam forming, you need need an azimuth (in degrees) and elevation (in degrees) to point the beam towards.  For planets, this can be accomplished using the pyephem package that is required by lsl.  For example, compute the location of Jupiter at LWA-1 on 12/17/2010 at 21:18 UTC (JD 2,455,548.38787):"
     ]
    },
    {
     "cell_type": "code",
     "collapsed": false,
     "input": [
      "import math\n",
      "import ephem\n",
      "from lsl.common import stations\n",
      "\n",
      "lwa1 = stations.lwa1\n",
      "lwaObserver = lwa1.getObserver(2455548.38787, JD=True)\n",
      "jove = ephem.Jupiter()\n",
      "jove.compute(lwaObserver)\n",
      "print \"Jupiter:  az -> %.1f, el -> %.1f\" % (jove.az*180/math.pi, jove.alt*180/math.pi)"
     ],
     "language": "python",
     "metadata": {},
     "outputs": [
      {
       "output_type": "stream",
       "stream": "stdout",
       "text": [
        "Jupiter:  az -> 112.4, el -> 24.4\n"
       ]
      }
     ],
     "prompt_number": 20
    },
    {
     "cell_type": "markdown",
     "metadata": {},
     "source": [
      "For fixed positions, use:"
     ]
    },
    {
     "cell_type": "code",
     "collapsed": false,
     "input": [
      "lwaObserver.date = '2010/12/17 21:18:34'\n",
      "\n",
      "cyga = ephem.FixedBody()\n",
      "cyga._ra = '19:59:28.30'\n",
      "cyga._dec = '+40:44:02'\n",
      "cyga.compute(lwaObserver)\n",
      "print \"Cygnus A:  az -> %.1f, el -> %.1f\" % (cyga.az*180/math.pi, cyga.alt*180/math.pi)"
     ],
     "language": "python",
     "metadata": {},
     "outputs": [
      {
       "output_type": "stream",
       "stream": "stdout",
       "text": [
        "Cygnus A:  az -> 10.0, el -> 83.2\n"
       ]
      }
     ],
     "prompt_number": 35
    },
    {
     "cell_type": "markdown",
     "metadata": {},
     "source": [
      "After TBN data have been read in and a pointing position has been found, a beam can be formed through phase-and-sum beamforming:"
     ]
    },
    {
     "cell_type": "code",
     "collapsed": false,
     "input": [
      "from lsl.misc import beamformer\n",
      "\n",
      "antennas = [lwa1.getAntennas()[0],]\n",
      "\n",
      "beamdata = beamformer.phaseAndSum(antennas, frame.data.iq, sampleRate=1e5, azimuth=10.9, elevation=83.2)\n",
      "print beamdata.shape"
     ],
     "language": "python",
     "metadata": {},
     "outputs": [
      {
       "output_type": "stream",
       "stream": "stdout",
       "text": [
        "(1, 512)\n"
       ]
      }
     ],
     "prompt_number": 39
    }
   ],
   "metadata": {}
  }
 ]
}