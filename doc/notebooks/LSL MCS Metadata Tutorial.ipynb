{
 "metadata": {
  "name": ""
 },
 "nbformat": 2,
 "nbformat_minor": 0,
 "worksheets": [
  {
   "cells": [
    {
     "cell_type": "markdown",
     "metadata": {},
     "source": [
      "All MCS0030 (SDF-based) observations will have associated metadata in the form of a metadata tarball.  The LWA1 Data Archive stores all of the metadata files that have been aquired so that observers can access the metadata.  This tutorial demonstrates the LSL interfaces to the metadata and how to extract various information.\n",
      "\n",
      "First, lets get a metadata tarball:"
     ]
    },
    {
     "cell_type": "code",
     "collapsed": false,
     "input": [
      "# This may take a bit...\n",
      "import os\n",
      "import urllib2\n",
      "\n",
      "if not os.path.exists('LK003_0113.tgz'):\n",
      "    fh1 = urllib2.urlopen('http://lda10g.alliance.unm.edu/metadata/observation/130921_done/LK003_0113.tgz')\n",
      "    fh2 = open('LK003_0113.tgz', 'wb')\n",
      "    fh2.write(fh1.read())\n",
      "    fh1.close()\n",
      "    fh2.close()\n",
      "    \n",
      "print \"Metadata Size: %.1f kB\" % (os.path.getsize('LK003_0113.tgz')/1024.)"
     ],
     "language": "python",
     "metadata": {},
     "outputs": [
      {
       "output_type": "stream",
       "stream": "stdout",
       "text": [
        "Metadata Size: 470.6 kB\n"
       ]
      }
     ],
     "prompt_number": 3
    },
    {
     "cell_type": "markdown",
     "metadata": {},
     "source": [
      "The lsl.common.metabundle module provides access to the contents of the tarball.  To get the SDF included in the tarball run:"
     ]
    },
    {
     "cell_type": "code",
     "collapsed": false,
     "input": [
      "from lsl.common import metabundle \n",
      "\n",
      "project = metabundle.getSessionDefinition('LK003_0113.tgz')\n",
      "print \"Project ID: %s\" % project.id\n",
      "print \"Session ID: %i\" % project.sessions[0].id"
     ],
     "language": "python",
     "metadata": {},
     "outputs": [
      {
       "output_type": "stream",
       "stream": "stdout",
       "text": [
        "Project ID: LK003\n",
        "Session ID: 113\n"
       ]
      }
     ],
     "prompt_number": 4
    },
    {
     "cell_type": "markdown",
     "metadata": {},
     "source": [
      "The \"project\" variable contains all of the observations in the SDF as well:"
     ]
    },
    {
     "cell_type": "code",
     "collapsed": false,
     "input": [
      "from datetime import datetime, timedelta\n",
      "\n",
      "nObs = len(project.sessions[0].observations)\n",
      "for i in xrange(nObs):\n",
      "    currDur = project.sessions[0].observations[i].dur\n",
      "    currDur = timedelta(seconds=int(currDur/1000), microseconds=(currDur*1000) % 1000000)\n",
      "    \n",
      "    print \"  Observation #%i\" % (i+1,)\n",
      "    print \"   Target: %s\" % project.sessions[0].observations[i].target\n",
      "    print \"   Mode: %s\" % project.sessions[0].observations[i].mode\n",
      "    print \"   Start:\"\n",
      "    print \"    MJD: %i\" % project.sessions[0].observations[i].mjd\n",
      "    print \"    MPM: %i\" % project.sessions[0].observations[i].mpm\n",
      "    print \"   Duration: %s\" % currDur"
     ],
     "language": "python",
     "metadata": {},
     "outputs": [
      {
       "output_type": "stream",
       "stream": "stdout",
       "text": [
        "  Observation #1\n",
        "   Target: M31\n",
        "   Mode: TRK_RADEC\n",
        "   Start:\n",
        "    MJD: 56556\n",
        "    MPM: 13692273\n",
        "   Duration: 4:00:00\n"
       ]
      }
     ],
     "prompt_number": 5
    },
    {
     "cell_type": "markdown",
     "metadata": {},
     "source": [
      "Working with MJD and MPM values isn't particularlly transparent but a MJD/MPM pair can be easily converted to a Python datetime object storing UTC time:"
     ]
    },
    {
     "cell_type": "code",
     "collapsed": false,
     "input": [
      "from lsl.astro import utcjd_to_unix, MJD_OFFSET\n",
      "\n",
      "mjd = project.sessions[0].observations[0].mjd\n",
      "mpm = project.sessions[0].observations[0].mpm\n",
      "tStart = utcjd_to_unix(mjd + MJD_OFFSET)\n",
      "tStart += mpm / 1000.0\n",
      "\n",
      "print \"MJD: %i\" % mjd\n",
      "print \"MPM: %i\" % mpm\n",
      "print \"-> %s\" % datetime.utcfromtimestamp(tStart)"
     ],
     "language": "python",
     "metadata": {},
     "outputs": [
      {
       "output_type": "stream",
       "stream": "stdout",
       "text": [
        "MJD: 56556\n",
        "MPM: 13692273\n",
        "-> 2013-09-21 03:48:12.273000\n"
       ]
      }
     ],
     "prompt_number": 6
    },
    {
     "cell_type": "markdown",
     "metadata": {},
     "source": [
      "The metadata tarball also stores information about the filename and DRSU barcode that the data were recorded on though the getSessionMetadata function:"
     ]
    },
    {
     "cell_type": "code",
     "collapsed": false,
     "input": [
      "fileInfo = metabundle.getSessionMetaData('LK003_0113.tgz')\n",
      "for obsID in fileInfo.keys():\n",
      "    print \" Obs. #%i: %s on %s\" % (obsID, fileInfo[obsID]['tag'], fileInfo[obsID]['barcode'])"
     ],
     "language": "python",
     "metadata": {},
     "outputs": [
      {
       "output_type": "stream",
       "stream": "stdout",
       "text": [
        " Obs. #1: 056556_000068631 on S15TCV13S0001\n"
       ]
      }
     ],
     "prompt_number": 11
    },
    {
     "cell_type": "markdown",
     "metadata": {},
     "source": [
      "Finally, the metadata also contains the ASP settings before and after the observation so that observers can find out what ASP was set to during their observations.  This is accomplised through the getASPConfigurationSummary function:"
     ]
    },
    {
     "cell_type": "code",
     "collapsed": false,
     "input": [
      "for which in ('Beginning', 'End'):\n",
      "    aspConfig = metabundle.getASPConfigurationSummary('LK003_0113.tgz', which=which)\n",
      "    print '  %s' % which\n",
      "    for k in aspConfig.keys():\n",
      "        print '    %s: %i' % (k, aspConfig[k])"
     ],
     "language": "python",
     "metadata": {},
     "outputs": [
      {
       "output_type": "stream",
       "stream": "stdout",
       "text": [
        "  Beginning\n",
        "    filter: 0\n",
        "    at2: 6\n",
        "    atsplit: 15\n",
        "    at1: 8\n",
        "  End"
       ]
      },
      {
       "output_type": "stream",
       "stream": "stdout",
       "text": [
        "\n",
        "    filter: 0\n",
        "    at2: 6\n",
        "    atsplit: 15\n",
        "    at1: 8\n"
       ]
      }
     ],
     "prompt_number": 13
    }
   ],
   "metadata": {}
  }
 ]
}